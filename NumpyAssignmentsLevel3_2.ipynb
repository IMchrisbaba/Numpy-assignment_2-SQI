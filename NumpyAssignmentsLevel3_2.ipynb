{
 "cells": [
  {
   "cell_type": "code",
   "execution_count": 3,
   "id": "c083ef79",
   "metadata": {},
   "outputs": [],
   "source": [
    "import numpy as np\n",
    "import pandas as pd"
   ]
  },
  {
   "cell_type": "code",
   "execution_count": 6,
   "id": "bea52016",
   "metadata": {},
   "outputs": [],
   "source": [
    "#Assignment 2:\n",
    "#use us_births data to compute the following using np:\n",
    "    #extract the year, gender and births column from the data\n",
    "    #compute the aggregation of sum of total birth, sum of female birth and sum of male birth, mean and median\n",
    "    #compute the maximum births and minimum births\n",
    "    #indicate the gender with minimum birth and maximum birth\n",
    "    #indicate the year with minimum birth and maximum birth"
   ]
  },
  {
   "cell_type": "code",
   "execution_count": 7,
   "id": "c88c43e4",
   "metadata": {},
   "outputs": [
    {
     "data": {
      "text/html": [
       "<div>\n",
       "<style scoped>\n",
       "    .dataframe tbody tr th:only-of-type {\n",
       "        vertical-align: middle;\n",
       "    }\n",
       "\n",
       "    .dataframe tbody tr th {\n",
       "        vertical-align: top;\n",
       "    }\n",
       "\n",
       "    .dataframe thead th {\n",
       "        text-align: right;\n",
       "    }\n",
       "</style>\n",
       "<table border=\"1\" class=\"dataframe\">\n",
       "  <thead>\n",
       "    <tr style=\"text-align: right;\">\n",
       "      <th></th>\n",
       "      <th>year</th>\n",
       "      <th>month</th>\n",
       "      <th>day</th>\n",
       "      <th>gender</th>\n",
       "      <th>births</th>\n",
       "    </tr>\n",
       "  </thead>\n",
       "  <tbody>\n",
       "    <tr>\n",
       "      <th>0</th>\n",
       "      <td>1969</td>\n",
       "      <td>1</td>\n",
       "      <td>1.0</td>\n",
       "      <td>F</td>\n",
       "      <td>4046</td>\n",
       "    </tr>\n",
       "    <tr>\n",
       "      <th>1</th>\n",
       "      <td>1969</td>\n",
       "      <td>1</td>\n",
       "      <td>1.0</td>\n",
       "      <td>M</td>\n",
       "      <td>4440</td>\n",
       "    </tr>\n",
       "    <tr>\n",
       "      <th>2</th>\n",
       "      <td>1969</td>\n",
       "      <td>1</td>\n",
       "      <td>2.0</td>\n",
       "      <td>F</td>\n",
       "      <td>4454</td>\n",
       "    </tr>\n",
       "    <tr>\n",
       "      <th>3</th>\n",
       "      <td>1969</td>\n",
       "      <td>1</td>\n",
       "      <td>2.0</td>\n",
       "      <td>M</td>\n",
       "      <td>4548</td>\n",
       "    </tr>\n",
       "    <tr>\n",
       "      <th>4</th>\n",
       "      <td>1969</td>\n",
       "      <td>1</td>\n",
       "      <td>3.0</td>\n",
       "      <td>F</td>\n",
       "      <td>4548</td>\n",
       "    </tr>\n",
       "  </tbody>\n",
       "</table>\n",
       "</div>"
      ],
      "text/plain": [
       "   year  month  day gender  births\n",
       "0  1969      1  1.0      F    4046\n",
       "1  1969      1  1.0      M    4440\n",
       "2  1969      1  2.0      F    4454\n",
       "3  1969      1  2.0      M    4548\n",
       "4  1969      1  3.0      F    4548"
      ]
     },
     "execution_count": 7,
     "metadata": {},
     "output_type": "execute_result"
    }
   ],
   "source": [
    "import pandas as pd\n",
    "us_birth_data = pd.read_csv('C:\\\\Data Science\\\\Datasets\\\\us_births.csv')\n",
    "us_birth_data.head()\n",
    "# us_birth_data.head()[1:3]\n",
    "# us_birth_data [5:100]\n",
    "\n"
   ]
  },
  {
   "cell_type": "code",
   "execution_count": 21,
   "id": "783e7b87",
   "metadata": {},
   "outputs": [
    {
     "name": "stdout",
     "output_type": "stream",
     "text": [
      "Birth Year \n",
      " [1969 1969 1969 ... 2008 2008 2008] \n",
      "\n",
      "Birth Gender \n",
      " ['F' 'M' 'F' ... 'M' 'F' 'M'] \n",
      "\n",
      "Birth Population \n",
      " [  4046   4440   4454 ... 165468 173215 181235] \n",
      "\n"
     ]
    }
   ],
   "source": [
    "# extract the year, gender and births column from the data\n",
    "year = np.array(us_birth_data['year'])\n",
    "gender = np.array(us_birth_data['gender'])\n",
    "population = np.array(us_birth_data['births'])\n",
    "print('Birth Year \\n', year, '\\n')\n",
    "print('Birth Gender \\n', gender, '\\n')\n",
    "print('Birth Population \\n', population, '\\n')\n",
    "# population.size"
   ]
  },
  {
   "cell_type": "code",
   "execution_count": 23,
   "id": "b99fe357",
   "metadata": {},
   "outputs": [
    {
     "name": "stdout",
     "output_type": "stream",
     "text": [
      "7771\n",
      "7776\n"
     ]
    }
   ],
   "source": [
    "# THE AGGREGATION OF SUM OF THE TOTAL BIRTH:\n",
    "male = []\n",
    "female = []\n",
    "for b in range(0, len(gender)):\n",
    "    if gender[b] == 'M':\n",
    "        male.append(population[b])\n",
    "    else:\n",
    "        female.append(population[b])\n",
    "# print('The Male population: \\n', male, '\\n')\n",
    "print(len(male))\n",
    "# print('The Female population: \\n', female, '\\n')\n",
    "print(len(female))"
   ]
  },
  {
   "cell_type": "markdown",
   "id": "fb73b899",
   "metadata": {},
   "source": []
  },
  {
   "cell_type": "code",
   "execution_count": 22,
   "id": "bbe8d890",
   "metadata": {},
   "outputs": [
    {
     "name": "stdout",
     "output_type": "stream",
     "text": [
      "Total Population:  151774378\n",
      "Total Male Population:  77738555 \n",
      "Total Female Population:  74035823\n",
      "Mean Population:  9762.293561458802 \n",
      " Male Mean Population:  10003.674559258783 \n",
      " Female Mean Population:  9521.067772633745\n",
      "Median Population:  4814.0 \n",
      " Male Median Population:  4938.0 \n",
      " Female Median Population:  4688.5\n"
     ]
    }
   ],
   "source": [
    "#compute the aggregation of sum of total birth, sum of female birth and sum of male birth, mean and median\n",
    "total_population = np.sum(population)\n",
    "total_male_birth = np.sum(male)\n",
    "total_female_birth = np.sum(female)\n",
    "total_population_mean = np.mean(population)\n",
    "male_mean_birth = np.mean(male)\n",
    "female_mean_birth = np.mean(female)\n",
    "total_population_median = np.median(population)\n",
    "male_median_birth = np.median(male)\n",
    "female_median_birth = np.median(female)\n",
    "print('Total Population: ', total_population)\n",
    "print('Total Male Population: ',total_male_birth, '\\nTotal Female Population: ',total_female_birth)\n",
    "print('Mean Population: ',total_population_mean, '\\n Male Mean Population: ',male_mean_birth, '\\n Female Mean Population: ',female_mean_birth )\n",
    "print('Median Population: ',total_population_median, '\\n Male Median Population: ',male_median_birth, '\\n Female Median Population: ',female_median_birth )\n",
    "\n",
    "\n",
    "\n",
    "\n"
   ]
  },
  {
   "cell_type": "code",
   "execution_count": 23,
   "id": "853ff6ba",
   "metadata": {},
   "outputs": [
    {
     "name": "stdout",
     "output_type": "stream",
     "text": [
      "maximum population is:  199622\n",
      "minimum population is:  1\n",
      "Gender with maximum population birth is:  M\n",
      "Gender with minimum population birth is:  F\n",
      "Year with maximum population birth is:  2007\n",
      "Year with minimum population birth is:  1975\n"
     ]
    }
   ],
   "source": [
    "#compute the maximum births and minimum births\n",
    "#indicate the gender with minimum birth and maximum birth\n",
    "#indicate the year with minimum birth and maximum birth\n",
    "max_birth = np.max(population)\n",
    "min_birth = np.min(population)\n",
    "gender_max = np.argmax(population)\n",
    "gender_min = np.argmin(population)\n",
    "\n",
    "print('maximum population is: ', max_birth)\n",
    "print('minimum population is: ', min_birth)\n",
    "print('Gender with maximum population birth is: ', gender[gender_max])\n",
    "print('Gender with minimum population birth is: ', gender[gender_min])\n",
    "print('Year with maximum population birth is: ', year[gender_max])\n",
    "print('Year with minimum population birth is: ', year[gender_min])\n",
    "\n",
    "    \n"
   ]
  }
 ],
 "metadata": {
  "kernelspec": {
   "display_name": "Python 3",
   "language": "python",
   "name": "python3"
  },
  "language_info": {
   "codemirror_mode": {
    "name": "ipython",
    "version": 3
   },
   "file_extension": ".py",
   "mimetype": "text/x-python",
   "name": "python",
   "nbconvert_exporter": "python",
   "pygments_lexer": "ipython3",
   "version": "3.8.8"
  }
 },
 "nbformat": 4,
 "nbformat_minor": 5
}
